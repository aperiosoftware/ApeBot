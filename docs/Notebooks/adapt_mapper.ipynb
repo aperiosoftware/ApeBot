{
 "cells": [
  {
   "cell_type": "code",
   "execution_count": 9,
   "metadata": {
    "collapsed": false
   },
   "outputs": [],
   "source": [
    "from adapt.intent import IntentBuilder\n",
    "from adapt.engine import IntentDeterminationEngine\n",
    "\n",
    "import random\n",
    "from functools import wraps"
   ]
  },
  {
   "cell_type": "code",
   "execution_count": 12,
   "metadata": {
    "collapsed": true
   },
   "outputs": [],
   "source": [
    "class IntentCaller:\n",
    "    \"\"\"\n",
    "    This class keeps a mapping between intents and methods.\n",
    "    \"\"\"\n",
    "    def __init__(self, engine=None):\n",
    "        if not engine:\n",
    "            engine = IntentDeterminationEngine()\n",
    "         \n",
    "        self.engine = engine\n",
    "        self.intentmapper = {}\n",
    "        \n",
    "    def get_function(self, message):\n",
    "        \"\"\"\n",
    "        Query the Intent Engine to find the callable associated with the message.\n",
    "        \"\"\"\n",
    "        for intent in self.engine.determine_intent(message):\n",
    "            if intent.get('confidence') > 0:\n",
    "                func = self.intentmapper.get(intent.get('intent_type'), None)\n",
    "                if func:\n",
    "                    return func()\n",
    "                else:\n",
    "                    raise ValueError(\"No function associated with intent {}\".format(intent.get('intent_type')))\n",
    "\n",
    "                    \n",
    "    def register_entity(self, name, iterable):\n",
    "        \"\"\"\n",
    "        Given a name and a list of things register them as an entity with the engine.\n",
    "        \"\"\"\n",
    "        for item in iterable:\n",
    "            self.engine.register_entity(item, name)\n",
    "        return lambda func: func\n",
    "    \n",
    "    def register_intent(self, intent):\n",
    "        \"\"\"\n",
    "        Store a function as an intent\n",
    "        \"\"\"\n",
    "        self.engine.register_intent_parser(intent)\n",
    "        def decorator(func):\n",
    "            self.intentmapper[intent.name] = func\n",
    "            return func\n",
    "        return decorator\n",
    "    \n",
    "    def keyword_trigger(self, keyword, name=None):\n",
    "        \"\"\"\n",
    "        Register a single keyword as a command.\n",
    "        \"\"\"\n",
    "        if not name:\n",
    "            name = \"trigger{}\".format(keyword)\n",
    "        self.register_entity(name, [keyword])\n",
    "        intent = IntentBuilder(\"{}Intent\".format(keyword)).require(name).build()\n",
    "        return self.register_intent(intent)\n",
    "        "
   ]
  },
  {
   "cell_type": "code",
   "execution_count": 13,
   "metadata": {
    "collapsed": true
   },
   "outputs": [],
   "source": [
    "intenter = IntentCaller()"
   ]
  },
  {
   "cell_type": "code",
   "execution_count": 14,
   "metadata": {
    "collapsed": false
   },
   "outputs": [],
   "source": [
    "@intenter.keyword_trigger(\"hide\")\n",
    "def callback():\n",
    "    print(\"Hello Bob\")"
   ]
  },
  {
   "cell_type": "code",
   "execution_count": 15,
   "metadata": {
    "collapsed": false
   },
   "outputs": [
    {
     "name": "stdout",
     "output_type": "stream",
     "text": [
      "Hello Bob\n"
     ]
    }
   ],
   "source": [
    "intenter.get_function(\"hide\")"
   ]
  },
  {
   "cell_type": "code",
   "execution_count": null,
   "metadata": {
    "collapsed": true
   },
   "outputs": [],
   "source": []
  },
  {
   "cell_type": "code",
   "execution_count": null,
   "metadata": {
    "collapsed": true
   },
   "outputs": [],
   "source": []
  }
 ],
 "metadata": {
  "kernelspec": {
   "display_name": "Environment (matrix)",
   "language": "python",
   "name": "matrix"
  },
  "language_info": {
   "codemirror_mode": {
    "name": "ipython",
    "version": 3
   },
   "file_extension": ".py",
   "mimetype": "text/x-python",
   "name": "python",
   "nbconvert_exporter": "python",
   "pygments_lexer": "ipython3",
   "version": "3.6.0"
  }
 },
 "nbformat": 4,
 "nbformat_minor": 2
}
