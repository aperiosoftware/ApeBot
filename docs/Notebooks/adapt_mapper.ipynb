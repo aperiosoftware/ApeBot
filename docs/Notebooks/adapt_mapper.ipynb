{
 "cells": [
  {
   "cell_type": "code",
   "execution_count": 1,
   "metadata": {
    "collapsed": false
   },
   "outputs": [],
   "source": [
    "from adapt.intent import IntentBuilder\n",
    "from adapt.engine import IntentDeterminationEngine\n",
    "\n",
    "from functools import wraps"
   ]
  },
  {
   "cell_type": "code",
   "execution_count": 2,
   "metadata": {
    "collapsed": true
   },
   "outputs": [],
   "source": [
    "engine = IntentDeterminationEngine()"
   ]
  },
  {
   "cell_type": "code",
   "execution_count": 3,
   "metadata": {
    "collapsed": false
   },
   "outputs": [],
   "source": [
    "hide_keyword = ['hide']\n",
    "for hk in hide_keyword:\n",
    "    engine.register_entity(hk, \"HideKeyword\")\n",
    "\n",
    "hide_intent = IntentBuilder(\"HideIntent\").require(\"HideKeyword\").build()\n"
   ]
  },
  {
   "cell_type": "code",
   "execution_count": 4,
   "metadata": {
    "collapsed": true
   },
   "outputs": [],
   "source": [
    "class IntentCaller:\n",
    "    \"\"\"\n",
    "    This class keeps a mapping between intents and methods.\n",
    "    \"\"\"\n",
    "    def __init__(self, engine=None):\n",
    "        if not engine:\n",
    "            engine = IntentDeterminationEngine()\n",
    "         \n",
    "        self.engine = engine\n",
    "        self.intentmapper = {}\n",
    "        \n",
    "    def get_function(self, message):\n",
    "        \"\"\"\n",
    "        Query the Intent Engine to find the callable associated with the message.\n",
    "        \"\"\"\n",
    "        print(self.engine, message)\n",
    "        for intent in self.engine.determine_intent(message):\n",
    "            print(\"int\", type(intent), intent)\n",
    "            if intent.get('confidence') > 0:\n",
    "                func = self.intentmapper.get(intent.get('intent_type'), None)\n",
    "                print(func)\n",
    "                if func:\n",
    "                    return func()\n",
    "                else:\n",
    "                    raise ValueError(\"No function associated with intent {}\".format(intent.get('intent_type')))\n",
    "\n",
    "    \n",
    "    def register_intent(self, intent):\n",
    "        \"\"\"\n",
    "        Store a function as an intent\n",
    "        \"\"\"\n",
    "        self.engine.register_intent_parser(intent)\n",
    "        def decorator(func):\n",
    "            self.intentmapper[intent.name] = func\n",
    "            return func\n",
    "        return decorator\n",
    "        \n",
    "        \n",
    "        "
   ]
  },
  {
   "cell_type": "code",
   "execution_count": 5,
   "metadata": {
    "collapsed": true
   },
   "outputs": [],
   "source": [
    "intenter = IntentCaller()"
   ]
  },
  {
   "cell_type": "code",
   "execution_count": 6,
   "metadata": {
    "collapsed": false
   },
   "outputs": [],
   "source": [
    "@intenter.register_intent(intent=hide_intent)\n",
    "def callback():\n",
    "    print(\"Hello Bob\")"
   ]
  },
  {
   "cell_type": "code",
   "execution_count": 7,
   "metadata": {
    "collapsed": false
   },
   "outputs": [
    {
     "name": "stdout",
     "output_type": "stream",
     "text": [
      "<adapt.engine.IntentDeterminationEngine object at 0x7f057c40af98> Hello Bob\n"
     ]
    }
   ],
   "source": [
    "intenter.get_function(\"Hello Bob\")"
   ]
  },
  {
   "cell_type": "code",
   "execution_count": null,
   "metadata": {
    "collapsed": true
   },
   "outputs": [],
   "source": []
  },
  {
   "cell_type": "code",
   "execution_count": null,
   "metadata": {
    "collapsed": true
   },
   "outputs": [],
   "source": []
  }
 ],
 "metadata": {
  "kernelspec": {
   "display_name": "Environment (matrix)",
   "language": "python",
   "name": "matrix"
  },
  "language_info": {
   "codemirror_mode": {
    "name": "ipython",
    "version": 3
   },
   "file_extension": ".py",
   "mimetype": "text/x-python",
   "name": "python",
   "nbconvert_exporter": "python",
   "pygments_lexer": "ipython3",
   "version": "3.6.0"
  }
 },
 "nbformat": 4,
 "nbformat_minor": 2
}
